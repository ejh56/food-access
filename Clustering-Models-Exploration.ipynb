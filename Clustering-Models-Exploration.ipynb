{
 "cells": [
  {
   "cell_type": "markdown",
   "metadata": {},
   "source": [
    "# Exploring Additional Clustering Models"
   ]
  },
  {
   "cell_type": "markdown",
   "metadata": {},
   "source": [
    "## Imports/Flags"
   ]
  },
  {
   "cell_type": "code",
   "execution_count": 2,
   "metadata": {
    "ExecuteTime": {
     "end_time": "2020-05-14T15:46:17.556712Z",
     "start_time": "2020-05-14T15:46:17.550605Z"
    }
   },
   "outputs": [],
   "source": [
    "import pandas as pd\n",
    "import numpy as np\n",
    "import matplotlib as mpl\n",
    "import matplotlib.pyplot as plt\n",
    "import seaborn as sns\n",
    "\n",
    "from sklearn.preprocessing import MinMaxScaler\n",
    "from sklearn.decomposition import PCA\n",
    "from sklearn.cluster import MeanShift"
   ]
  },
  {
   "cell_type": "code",
   "execution_count": 7,
   "metadata": {
    "ExecuteTime": {
     "end_time": "2020-05-14T15:48:10.390888Z",
     "start_time": "2020-05-14T15:48:10.332918Z"
    }
   },
   "outputs": [],
   "source": [
    "merged_df = pd.read_pickle(\"Datasets/merged_dataset\")"
   ]
  },
  {
   "cell_type": "code",
   "execution_count": 9,
   "metadata": {
    "ExecuteTime": {
     "end_time": "2020-05-14T15:48:19.657364Z",
     "start_time": "2020-05-14T15:48:19.569481Z"
    }
   },
   "outputs": [
    {
     "data": {
      "text/html": [
       "<div>\n",
       "<style scoped>\n",
       "    .dataframe tbody tr th:only-of-type {\n",
       "        vertical-align: middle;\n",
       "    }\n",
       "\n",
       "    .dataframe tbody tr th {\n",
       "        vertical-align: top;\n",
       "    }\n",
       "\n",
       "    .dataframe thead th {\n",
       "        text-align: right;\n",
       "    }\n",
       "</style>\n",
       "<table border=\"1\" class=\"dataframe\">\n",
       "  <thead>\n",
       "    <tr style=\"text-align: right;\">\n",
       "      <th></th>\n",
       "      <th>LACCESS_POP10</th>\n",
       "      <th>LACCESS_POP15</th>\n",
       "      <th>PCH_LACCESS_POP_10_15</th>\n",
       "      <th>PCT_LACCESS_POP10</th>\n",
       "      <th>PCT_LACCESS_POP15</th>\n",
       "      <th>LACCESS_LOWI10</th>\n",
       "      <th>LACCESS_LOWI15</th>\n",
       "      <th>PCH_LACCESS_LOWI_10_15</th>\n",
       "      <th>PCT_LACCESS_LOWI10</th>\n",
       "      <th>PCT_LACCESS_LOWI15</th>\n",
       "      <th>...</th>\n",
       "      <th>PCH_SNAPS_12_16</th>\n",
       "      <th>SNAPSPTH12</th>\n",
       "      <th>SNAPSPTH16</th>\n",
       "      <th>PCH_SNAPSPTH_12_16</th>\n",
       "      <th>WICS08</th>\n",
       "      <th>WICS12</th>\n",
       "      <th>PCH_WICS_08_12</th>\n",
       "      <th>WICSPTH08</th>\n",
       "      <th>WICSPTH12</th>\n",
       "      <th>PCH_WICSPTH_08_12</th>\n",
       "    </tr>\n",
       "  </thead>\n",
       "  <tbody>\n",
       "    <tr>\n",
       "      <th>0</th>\n",
       "      <td>18428.44</td>\n",
       "      <td>17496.69</td>\n",
       "      <td>-5.06</td>\n",
       "      <td>33.77</td>\n",
       "      <td>32.06</td>\n",
       "      <td>5344.43</td>\n",
       "      <td>6543.68</td>\n",
       "      <td>22.44</td>\n",
       "      <td>9.79</td>\n",
       "      <td>11.99</td>\n",
       "      <td>...</td>\n",
       "      <td>12.69</td>\n",
       "      <td>0.67</td>\n",
       "      <td>0.76</td>\n",
       "      <td>12.89</td>\n",
       "      <td>6</td>\n",
       "      <td>5</td>\n",
       "      <td>-16.67</td>\n",
       "      <td>0.12</td>\n",
       "      <td>0.09</td>\n",
       "      <td>-24.41</td>\n",
       "    </tr>\n",
       "    <tr>\n",
       "      <th>1</th>\n",
       "      <td>35210.81</td>\n",
       "      <td>30561.26</td>\n",
       "      <td>-13.20</td>\n",
       "      <td>19.32</td>\n",
       "      <td>16.77</td>\n",
       "      <td>9952.14</td>\n",
       "      <td>9886.83</td>\n",
       "      <td>-0.66</td>\n",
       "      <td>5.46</td>\n",
       "      <td>5.42</td>\n",
       "      <td>...</td>\n",
       "      <td>43.19</td>\n",
       "      <td>0.73</td>\n",
       "      <td>0.95</td>\n",
       "      <td>30.99</td>\n",
       "      <td>25</td>\n",
       "      <td>27</td>\n",
       "      <td>8.00</td>\n",
       "      <td>0.14</td>\n",
       "      <td>0.14</td>\n",
       "      <td>-0.25</td>\n",
       "    </tr>\n",
       "    <tr>\n",
       "      <th>2</th>\n",
       "      <td>5722.31</td>\n",
       "      <td>6069.52</td>\n",
       "      <td>6.07</td>\n",
       "      <td>20.84</td>\n",
       "      <td>22.11</td>\n",
       "      <td>3135.68</td>\n",
       "      <td>2948.79</td>\n",
       "      <td>-5.96</td>\n",
       "      <td>11.42</td>\n",
       "      <td>10.74</td>\n",
       "      <td>...</td>\n",
       "      <td>0.96</td>\n",
       "      <td>1.28</td>\n",
       "      <td>1.35</td>\n",
       "      <td>5.76</td>\n",
       "      <td>6</td>\n",
       "      <td>7</td>\n",
       "      <td>16.67</td>\n",
       "      <td>0.20</td>\n",
       "      <td>0.26</td>\n",
       "      <td>27.97</td>\n",
       "    </tr>\n",
       "    <tr>\n",
       "      <th>3</th>\n",
       "      <td>1044.87</td>\n",
       "      <td>969.38</td>\n",
       "      <td>-7.22</td>\n",
       "      <td>4.56</td>\n",
       "      <td>4.23</td>\n",
       "      <td>491.45</td>\n",
       "      <td>596.16</td>\n",
       "      <td>21.31</td>\n",
       "      <td>2.14</td>\n",
       "      <td>2.60</td>\n",
       "      <td>...</td>\n",
       "      <td>20.51</td>\n",
       "      <td>0.72</td>\n",
       "      <td>0.86</td>\n",
       "      <td>20.27</td>\n",
       "      <td>6</td>\n",
       "      <td>5</td>\n",
       "      <td>-16.67</td>\n",
       "      <td>0.28</td>\n",
       "      <td>0.22</td>\n",
       "      <td>-20.38</td>\n",
       "    </tr>\n",
       "    <tr>\n",
       "      <th>4</th>\n",
       "      <td>1548.18</td>\n",
       "      <td>3724.43</td>\n",
       "      <td>140.57</td>\n",
       "      <td>2.70</td>\n",
       "      <td>6.50</td>\n",
       "      <td>609.03</td>\n",
       "      <td>1650.96</td>\n",
       "      <td>171.08</td>\n",
       "      <td>1.06</td>\n",
       "      <td>2.88</td>\n",
       "      <td>...</td>\n",
       "      <td>23.90</td>\n",
       "      <td>0.66</td>\n",
       "      <td>0.82</td>\n",
       "      <td>24.17</td>\n",
       "      <td>10</td>\n",
       "      <td>6</td>\n",
       "      <td>-40.00</td>\n",
       "      <td>0.17</td>\n",
       "      <td>0.10</td>\n",
       "      <td>-40.03</td>\n",
       "    </tr>\n",
       "  </tbody>\n",
       "</table>\n",
       "<p>5 rows × 177 columns</p>\n",
       "</div>"
      ],
      "text/plain": [
       "   LACCESS_POP10  LACCESS_POP15  PCH_LACCESS_POP_10_15  PCT_LACCESS_POP10  \\\n",
       "0       18428.44       17496.69                  -5.06              33.77   \n",
       "1       35210.81       30561.26                 -13.20              19.32   \n",
       "2        5722.31        6069.52                   6.07              20.84   \n",
       "3        1044.87         969.38                  -7.22               4.56   \n",
       "4        1548.18        3724.43                 140.57               2.70   \n",
       "\n",
       "   PCT_LACCESS_POP15  LACCESS_LOWI10  LACCESS_LOWI15  PCH_LACCESS_LOWI_10_15  \\\n",
       "0              32.06         5344.43         6543.68                   22.44   \n",
       "1              16.77         9952.14         9886.83                   -0.66   \n",
       "2              22.11         3135.68         2948.79                   -5.96   \n",
       "3               4.23          491.45          596.16                   21.31   \n",
       "4               6.50          609.03         1650.96                  171.08   \n",
       "\n",
       "   PCT_LACCESS_LOWI10  PCT_LACCESS_LOWI15  ...  PCH_SNAPS_12_16  SNAPSPTH12  \\\n",
       "0                9.79               11.99  ...            12.69        0.67   \n",
       "1                5.46                5.42  ...            43.19        0.73   \n",
       "2               11.42               10.74  ...             0.96        1.28   \n",
       "3                2.14                2.60  ...            20.51        0.72   \n",
       "4                1.06                2.88  ...            23.90        0.66   \n",
       "\n",
       "   SNAPSPTH16  PCH_SNAPSPTH_12_16  WICS08  WICS12  PCH_WICS_08_12  WICSPTH08  \\\n",
       "0        0.76               12.89       6       5          -16.67       0.12   \n",
       "1        0.95               30.99      25      27            8.00       0.14   \n",
       "2        1.35                5.76       6       7           16.67       0.20   \n",
       "3        0.86               20.27       6       5          -16.67       0.28   \n",
       "4        0.82               24.17      10       6          -40.00       0.17   \n",
       "\n",
       "   WICSPTH12  PCH_WICSPTH_08_12  \n",
       "0       0.09             -24.41  \n",
       "1       0.14              -0.25  \n",
       "2       0.26              27.97  \n",
       "3       0.22             -20.38  \n",
       "4       0.10             -40.03  \n",
       "\n",
       "[5 rows x 177 columns]"
      ]
     },
     "execution_count": 9,
     "metadata": {},
     "output_type": "execute_result"
    }
   ],
   "source": [
    "merged_df.head()"
   ]
  },
  {
   "cell_type": "markdown",
   "metadata": {},
   "source": [
    "## Scale"
   ]
  },
  {
   "cell_type": "code",
   "execution_count": 10,
   "metadata": {
    "ExecuteTime": {
     "end_time": "2020-05-14T15:48:30.894027Z",
     "start_time": "2020-05-14T15:48:30.855060Z"
    }
   },
   "outputs": [],
   "source": [
    "scaler = MinMaxScaler()\n",
    "data_rescaled = scaler.fit_transform(merged_df)"
   ]
  },
  {
   "cell_type": "markdown",
   "metadata": {},
   "source": [
    "## Mean Shift"
   ]
  },
  {
   "cell_type": "code",
   "execution_count": 25,
   "metadata": {
    "ExecuteTime": {
     "end_time": "2020-05-14T15:59:38.021504Z",
     "start_time": "2020-05-14T15:59:37.734123Z"
    }
   },
   "outputs": [],
   "source": [
    "pca = PCA(n_components = 0.9999)\n",
    "pca.fit(data_rescaled)\n",
    "mshift_data = pca.transform(data_rescaled)"
   ]
  },
  {
   "cell_type": "code",
   "execution_count": 16,
   "metadata": {
    "ExecuteTime": {
     "end_time": "2020-05-14T15:57:03.745880Z",
     "start_time": "2020-05-14T15:52:58.073082Z"
    }
   },
   "outputs": [],
   "source": [
    "mshift = MeanShift().fit(mshift_data)"
   ]
  },
  {
   "cell_type": "code",
   "execution_count": 17,
   "metadata": {
    "ExecuteTime": {
     "end_time": "2020-05-14T15:57:23.235887Z",
     "start_time": "2020-05-14T15:57:23.149843Z"
    }
   },
   "outputs": [],
   "source": [
    "clusters = mshift.predict(mshift_data)"
   ]
  },
  {
   "cell_type": "code",
   "execution_count": 20,
   "metadata": {
    "ExecuteTime": {
     "end_time": "2020-05-14T15:57:45.540594Z",
     "start_time": "2020-05-14T15:57:45.521368Z"
    }
   },
   "outputs": [],
   "source": [
    "mshift_data[\"clusters\"] = clusters"
   ]
  },
  {
   "cell_type": "code",
   "execution_count": 21,
   "metadata": {
    "ExecuteTime": {
     "end_time": "2020-05-14T15:58:11.959819Z",
     "start_time": "2020-05-14T15:58:11.894880Z"
    }
   },
   "outputs": [
    {
     "data": {
      "text/html": [
       "<div>\n",
       "<style scoped>\n",
       "    .dataframe tbody tr th:only-of-type {\n",
       "        vertical-align: middle;\n",
       "    }\n",
       "\n",
       "    .dataframe tbody tr th {\n",
       "        vertical-align: top;\n",
       "    }\n",
       "\n",
       "    .dataframe thead th {\n",
       "        text-align: right;\n",
       "    }\n",
       "</style>\n",
       "<table border=\"1\" class=\"dataframe\">\n",
       "  <thead>\n",
       "    <tr style=\"text-align: right;\">\n",
       "      <th></th>\n",
       "      <th>0</th>\n",
       "      <th>1</th>\n",
       "      <th>2</th>\n",
       "      <th>3</th>\n",
       "      <th>4</th>\n",
       "      <th>5</th>\n",
       "      <th>6</th>\n",
       "      <th>7</th>\n",
       "      <th>8</th>\n",
       "      <th>9</th>\n",
       "      <th>...</th>\n",
       "      <th>168</th>\n",
       "      <th>169</th>\n",
       "      <th>170</th>\n",
       "      <th>171</th>\n",
       "      <th>172</th>\n",
       "      <th>173</th>\n",
       "      <th>174</th>\n",
       "      <th>175</th>\n",
       "      <th>176</th>\n",
       "      <th>clusters</th>\n",
       "    </tr>\n",
       "  </thead>\n",
       "  <tbody>\n",
       "    <tr>\n",
       "      <th>0</th>\n",
       "      <td>0.020798</td>\n",
       "      <td>0.023636</td>\n",
       "      <td>0.000004</td>\n",
       "      <td>0.3377</td>\n",
       "      <td>0.3206</td>\n",
       "      <td>0.018269</td>\n",
       "      <td>0.025218</td>\n",
       "      <td>0.000005</td>\n",
       "      <td>0.135464</td>\n",
       "      <td>0.166899</td>\n",
       "      <td>...</td>\n",
       "      <td>0.100601</td>\n",
       "      <td>0.125620</td>\n",
       "      <td>0.074048</td>\n",
       "      <td>0.004669</td>\n",
       "      <td>0.003121</td>\n",
       "      <td>0.208325</td>\n",
       "      <td>0.025974</td>\n",
       "      <td>0.030100</td>\n",
       "      <td>0.191819</td>\n",
       "      <td>0</td>\n",
       "    </tr>\n",
       "    <tr>\n",
       "      <th>1</th>\n",
       "      <td>0.039738</td>\n",
       "      <td>0.041284</td>\n",
       "      <td>0.000004</td>\n",
       "      <td>0.1932</td>\n",
       "      <td>0.1677</td>\n",
       "      <td>0.034020</td>\n",
       "      <td>0.038103</td>\n",
       "      <td>0.000004</td>\n",
       "      <td>0.075550</td>\n",
       "      <td>0.075445</td>\n",
       "      <td>...</td>\n",
       "      <td>0.109610</td>\n",
       "      <td>0.157025</td>\n",
       "      <td>0.088980</td>\n",
       "      <td>0.019455</td>\n",
       "      <td>0.016854</td>\n",
       "      <td>0.270000</td>\n",
       "      <td>0.030303</td>\n",
       "      <td>0.046823</td>\n",
       "      <td>0.253128</td>\n",
       "      <td>0</td>\n",
       "    </tr>\n",
       "    <tr>\n",
       "      <th>2</th>\n",
       "      <td>0.006458</td>\n",
       "      <td>0.008199</td>\n",
       "      <td>0.000005</td>\n",
       "      <td>0.2084</td>\n",
       "      <td>0.2211</td>\n",
       "      <td>0.010719</td>\n",
       "      <td>0.011364</td>\n",
       "      <td>0.000004</td>\n",
       "      <td>0.158019</td>\n",
       "      <td>0.149499</td>\n",
       "      <td>...</td>\n",
       "      <td>0.192192</td>\n",
       "      <td>0.223140</td>\n",
       "      <td>0.068166</td>\n",
       "      <td>0.004669</td>\n",
       "      <td>0.004370</td>\n",
       "      <td>0.291675</td>\n",
       "      <td>0.043290</td>\n",
       "      <td>0.086957</td>\n",
       "      <td>0.324739</td>\n",
       "      <td>0</td>\n",
       "    </tr>\n",
       "    <tr>\n",
       "      <th>3</th>\n",
       "      <td>0.001179</td>\n",
       "      <td>0.001309</td>\n",
       "      <td>0.000004</td>\n",
       "      <td>0.0456</td>\n",
       "      <td>0.0423</td>\n",
       "      <td>0.001680</td>\n",
       "      <td>0.002298</td>\n",
       "      <td>0.000005</td>\n",
       "      <td>0.029611</td>\n",
       "      <td>0.036192</td>\n",
       "      <td>...</td>\n",
       "      <td>0.108108</td>\n",
       "      <td>0.142149</td>\n",
       "      <td>0.080137</td>\n",
       "      <td>0.004669</td>\n",
       "      <td>0.003121</td>\n",
       "      <td>0.208325</td>\n",
       "      <td>0.060606</td>\n",
       "      <td>0.073579</td>\n",
       "      <td>0.202045</td>\n",
       "      <td>0</td>\n",
       "    </tr>\n",
       "    <tr>\n",
       "      <th>4</th>\n",
       "      <td>0.001747</td>\n",
       "      <td>0.005031</td>\n",
       "      <td>0.000011</td>\n",
       "      <td>0.0270</td>\n",
       "      <td>0.0650</td>\n",
       "      <td>0.002082</td>\n",
       "      <td>0.006363</td>\n",
       "      <td>0.000012</td>\n",
       "      <td>0.014667</td>\n",
       "      <td>0.040089</td>\n",
       "      <td>...</td>\n",
       "      <td>0.099099</td>\n",
       "      <td>0.135537</td>\n",
       "      <td>0.083354</td>\n",
       "      <td>0.007782</td>\n",
       "      <td>0.003745</td>\n",
       "      <td>0.150000</td>\n",
       "      <td>0.036797</td>\n",
       "      <td>0.033445</td>\n",
       "      <td>0.152181</td>\n",
       "      <td>0</td>\n",
       "    </tr>\n",
       "  </tbody>\n",
       "</table>\n",
       "<p>5 rows × 178 columns</p>\n",
       "</div>"
      ],
      "text/plain": [
       "          0         1         2       3       4         5         6         7  \\\n",
       "0  0.020798  0.023636  0.000004  0.3377  0.3206  0.018269  0.025218  0.000005   \n",
       "1  0.039738  0.041284  0.000004  0.1932  0.1677  0.034020  0.038103  0.000004   \n",
       "2  0.006458  0.008199  0.000005  0.2084  0.2211  0.010719  0.011364  0.000004   \n",
       "3  0.001179  0.001309  0.000004  0.0456  0.0423  0.001680  0.002298  0.000005   \n",
       "4  0.001747  0.005031  0.000011  0.0270  0.0650  0.002082  0.006363  0.000012   \n",
       "\n",
       "          8         9  ...       168       169       170       171       172  \\\n",
       "0  0.135464  0.166899  ...  0.100601  0.125620  0.074048  0.004669  0.003121   \n",
       "1  0.075550  0.075445  ...  0.109610  0.157025  0.088980  0.019455  0.016854   \n",
       "2  0.158019  0.149499  ...  0.192192  0.223140  0.068166  0.004669  0.004370   \n",
       "3  0.029611  0.036192  ...  0.108108  0.142149  0.080137  0.004669  0.003121   \n",
       "4  0.014667  0.040089  ...  0.099099  0.135537  0.083354  0.007782  0.003745   \n",
       "\n",
       "        173       174       175       176  clusters  \n",
       "0  0.208325  0.025974  0.030100  0.191819         0  \n",
       "1  0.270000  0.030303  0.046823  0.253128         0  \n",
       "2  0.291675  0.043290  0.086957  0.324739         0  \n",
       "3  0.208325  0.060606  0.073579  0.202045         0  \n",
       "4  0.150000  0.036797  0.033445  0.152181         0  \n",
       "\n",
       "[5 rows x 178 columns]"
      ]
     },
     "execution_count": 21,
     "metadata": {},
     "output_type": "execute_result"
    }
   ],
   "source": [
    "mshift_data.head()"
   ]
  },
  {
   "cell_type": "code",
   "execution_count": 24,
   "metadata": {
    "ExecuteTime": {
     "end_time": "2020-05-14T15:58:33.562142Z",
     "start_time": "2020-05-14T15:58:32.869626Z"
    }
   },
   "outputs": [
    {
     "data": {
      "image/png": "[encoded data removed]",
      "text/plain": [
       "<Figure size 1440x864 with 1 Axes>"
      ]
     },
     "metadata": {
      "needs_background": "light"
     },
     "output_type": "display_data"
    }
   ],
   "source": [
    "fig, ax = plt.subplots(figsize=(20, 12))\n",
    "ax = sns.scatterplot(data=mshift_data,\n",
    "                    x=0,\n",
    "                    y=1,\n",
    "                    hue=\"clusters\")"
   ]
  },
  {
   "cell_type": "code",
   "execution_count": null,
   "metadata": {},
   "outputs": [],
   "source": []
  }
 ],
 "metadata": {
  "kernelspec": {
   "display_name": "Python 3",
   "language": "python",
   "name": "python3"
  },
  "language_info": {
   "codemirror_mode": {
    "name": "ipython",
    "version": 3
   },
   "file_extension": ".py",
   "mimetype": "text/x-python",
   "name": "python",
   "nbconvert_exporter": "python",
   "pygments_lexer": "ipython3",
   "version": "3.8.2"
  },
  "toc": {
   "base_numbering": 1,
   "nav_menu": {},
   "number_sections": true,
   "sideBar": true,
   "skip_h1_title": false,
   "title_cell": "Table of Contents",
   "title_sidebar": "Contents",
   "toc_cell": false,
   "toc_position": {},
   "toc_section_display": true,
   "toc_window_display": false
  }
 },
 "nbformat": 4,
 "nbformat_minor": 4
}
