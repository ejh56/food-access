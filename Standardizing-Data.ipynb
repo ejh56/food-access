{
 "cells": [
  {
   "cell_type": "markdown",
   "metadata": {},
   "source": [
    "# Standardizing Data"
   ]
  },
  {
   "cell_type": "markdown",
   "metadata": {},
   "source": [
    "Creating standardized versions of all dataframes to use for analysis"
   ]
  },
  {
   "cell_type": "code",
   "execution_count": 1,
   "metadata": {
    "ExecuteTime": {
     "end_time": "2020-05-20T09:36:36.982707Z",
     "start_time": "2020-05-20T09:36:34.444367Z"
    }
   },
   "outputs": [],
   "source": [
    "import pandas as pd\n",
    "import numpy as np"
   ]
  },
  {
   "cell_type": "code",
   "execution_count": 2,
   "metadata": {
    "ExecuteTime": {
     "end_time": "2020-05-20T09:36:36.996556Z",
     "start_time": "2020-05-20T09:36:36.986996Z"
    }
   },
   "outputs": [],
   "source": [
    "def standardizer(df):\n",
    "    print(\"standardizing...\")\n",
    "    column_list = []\n",
    "    str_list = []\n",
    "    for column in df.columns:\n",
    "        if column in [\"FIPS\", \"State\", \"County\", \"Abrv\"]:\n",
    "            str_list.append(column)\n",
    "        else:\n",
    "            column_list.append(column)\n",
    "    return df[str_list].merge(((df[column_list] - df[column_list].mean()) / df[column_list].std()).astype(float),\n",
    "                             right_index=True, left_index=True)\n",
    "\n",
    "\n"
   ]
  },
  {
   "cell_type": "code",
   "execution_count": 3,
   "metadata": {
    "ExecuteTime": {
     "end_time": "2020-05-20T09:36:37.235441Z",
     "start_time": "2020-05-20T09:36:37.000463Z"
    }
   },
   "outputs": [],
   "source": [
    "access = pd.read_pickle(\"Datasets/access\")\n",
    "assistance = pd.read_pickle(\"Datasets/assistance\")\n",
    "health = pd.read_pickle(\"Datasets/health\")\n",
    "local = pd.read_pickle(\"Datasets/local\")\n",
    "population = pd.read_pickle(\"Datasets/population\")\n",
    "restaurants = pd.read_pickle(\"Datasets/restaurants\")\n",
    "socioecnomic = pd.read_pickle(\"Datasets/socioeconomic\")\n",
    "stores = pd.read_pickle(\"Datasets/stores\")\n",
    "insecurity_state = pd.read_pickle(\"Datasets/insecurity_state\")"
   ]
  },
  {
   "cell_type": "code",
   "execution_count": 4,
   "metadata": {
    "ExecuteTime": {
     "end_time": "2020-05-20T09:36:37.584375Z",
     "start_time": "2020-05-20T09:36:37.241960Z"
    }
   },
   "outputs": [
    {
     "name": "stdout",
     "output_type": "stream",
     "text": [
      "standardizing...\n",
      "standardizing...\n",
      "standardizing...\n",
      "standardizing...\n",
      "standardizing...\n",
      "standardizing...\n",
      "standardizing...\n",
      "standardizing...\n",
      "standardizing...\n"
     ]
    }
   ],
   "source": [
    "access_stan = standardizer(access)\n",
    "assistance_stan = standardizer(assistance)\n",
    "health_stan = standardizer(health)\n",
    "local_stan = standardizer(local)\n",
    "population_stan = standardizer(population)\n",
    "restaurants_stan = standardizer(restaurants)\n",
    "socioecnomic_stan = standardizer(socioecnomic)\n",
    "stores_stan = standardizer(stores)\n",
    "insecurity_state_stan = standardizer(insecurity_state)"
   ]
  },
  {
   "cell_type": "code",
   "execution_count": 6,
   "metadata": {
    "ExecuteTime": {
     "end_time": "2020-05-21T17:45:35.567475Z",
     "start_time": "2020-05-21T17:45:34.697401Z"
    }
   },
   "outputs": [],
   "source": [
    "access_stan.to_pickle(\"Datasets/standardized/access_stan\")\n",
    "assistance_stan.to_pickle(\"Datasets/standardized/assistance_stan\")\n",
    "health_stan.to_pickle(\"Datasets/standardized/health_stan\")\n",
    "local_stan.to_pickle(\"Datasets/standardized/local_stan\")\n",
    "population_stan.to_pickle(\"Datasets/standardized/population_stan\")\n",
    "restaurants_stan.to_pickle(\"Datasets/standardized/restaurants_stan\")\n",
    "socioecnomic_stan.to_pickle(\"Datasets/standardized/socioecnomic_stan\")\n",
    "stores_stan.to_pickle(\"Datasets/standardized/stores_stan\")\n",
    "insecurity_state_stan.to_pickle(\"Datasets/standardized/insecurity_state_stan\")"
   ]
  }
 ],
 "metadata": {
  "kernelspec": {
   "display_name": "Python 3",
   "language": "python",
   "name": "python3"
  },
  "language_info": {
   "codemirror_mode": {
    "name": "ipython",
    "version": 3
   },
   "file_extension": ".py",
   "mimetype": "text/x-python",
   "name": "python",
   "nbconvert_exporter": "python",
   "pygments_lexer": "ipython3",
   "version": "3.8.2"
  },
  "toc": {
   "base_numbering": 1,
   "nav_menu": {},
   "number_sections": true,
   "sideBar": true,
   "skip_h1_title": false,
   "title_cell": "Table of Contents",
   "title_sidebar": "Contents",
   "toc_cell": false,
   "toc_position": {},
   "toc_section_display": true,
   "toc_window_display": false
  }
 },
 "nbformat": 4,
 "nbformat_minor": 4
}
